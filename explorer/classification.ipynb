{
 "cells": [
  {
   "cell_type": "code",
   "execution_count": 1,
   "metadata": {
    "collapsed": false,
    "scrolled": false
   },
   "outputs": [],
   "source": [
    "%matplotlib inline\n",
    "import os\n",
    "import inspect\n",
    "import logging\n",
    "from mysql import connector\n",
    "import numpy as np\n",
    "import pandas as pd\n",
    "import matplotlib\n",
    "import matplotlib.pyplot as plt\n",
    "from sklearn.model_selection import cross_val_score\n",
    "from sklearn.linear_model import LogisticRegression\n",
    "from sklearn.naive_bayes import GaussianNB\n",
    "from sklearn.neighbors import KNeighborsClassifier\n",
    "from sklearn.tree import DecisionTreeClassifier\n",
    "from sklearn import svm\n",
    "\n",
    "class AQ:\n",
    "    WS_PATH = os.path.abspath(\"./\") + os.sep\n",
    "    DB_HOST = \"127.0.0.1\"\n",
    "    DB_USR = \"root\"\n",
    "    DB_PWD = \"!QAZ2wsx#EDC\"\n",
    "    DB_NAME = \"aq\"\n",
    "    \n",
    "    def log(self, msg):\n",
    "        print(msg)\n",
    "        \n",
    "class Classification:\n",
    "    def __init__(self, aq):\n",
    "        self.aq = aq\n",
    "        \n",
    "    def get_data(self, code, type):\n",
    "        mysql_connector = connector.connect(host=self.aq.DB_HOST, database=self.aq.DB_NAME,\n",
    "                                            user=self.aq.DB_USR, password=self.aq.DB_PWD)\n",
    "        data = pd.read_sql(\"\"\"SELECT close, high-low as hl, close-open as oc FROM future_trade WHERE code='%s' AND type='%s' \"\"\" % (code, type), \n",
    "                              con=mysql_connector)\n",
    "        data_1 = data.close.diff()\n",
    "        data_1[0] = 0\n",
    "        data_2 = data.hl\n",
    "        data_3 = data.oc\n",
    "        data = pd.DataFrame({\"data_1\":data_1, \"data_2\":data_2, \"data_3\":data_3})\n",
    "        data = pd.DataFrame(data, columns=[\"data_1\", \"data_2\", \"data_3\"])\n",
    "        mysql_connector.close()\n",
    "        return data\n",
    "\n",
    "    def get_X(self, data, lag):\n",
    "        X = pd.DataFrame(columns=range(lag * 3))\n",
    "        for idx, row in data.iterrows():\n",
    "            if idx >= lag:\n",
    "                data_1 = data.iloc[(idx-lag):idx, 0]\n",
    "                data_2 = data.iloc[(idx-lag):idx, 1]\n",
    "                data_3 = data.iloc[(idx-lag):idx, 2]\n",
    "                xrow = pd.concat([data_1, data_2, data_3], ignore_index=True)\n",
    "                X = X.append(xrow, ignore_index=True)\n",
    "        return X\n",
    "    \n",
    "    def get_y(self, data, lag):\n",
    "        y = data.data_1[lag:]\n",
    "        y.index = range(len(y))\n",
    "        y = y.apply(lambda x: x >= 0)\n",
    "        return y\n",
    "    \n",
    "    def cross_validate(self, code, type, model, lag, k_fold):\n",
    "        self.aq.log(\"Model: %s\" % model)\n",
    "        data = self.get_data(code, type)\n",
    "        X = self.get_X(data, lag)\n",
    "        y = self.get_y(data, lag)\n",
    "        scores = cross_val_score(model, X, y, cv=k_fold)\n",
    "        self.aq.log(\"Accuracy: %0.2f (+/- %0.2f)\\n\" % (scores.mean(), scores.std() * 2))\n",
    "        \n",
    "    def long_short_validate(self, code, type, model, lag, train_len, test_len):\n",
    "        self.aq.log(\"Model: %s\" % model)\n",
    "        \n",
    "        data = self.get_data(code, type)\n",
    "        X = self.get_X(data, lag)\n",
    "        y = self.get_y(data, lag)\n",
    "        \n",
    "        total = 0\n",
    "        start = 0\n",
    "        stop = train_len + test_len\n",
    "        y_len = len(y)\n",
    "        while (stop < y_len):\n",
    "            self.aq.log(\"Start:%s, Stop:%s\" % (start, stop))\n",
    "            X_train = X.iloc[start:(start+train_len)]\n",
    "            y_train = y.iloc[start:(start+train_len)]\n",
    "            model.fit(X_train, y_train)\n",
    "            X_test = X.iloc[(stop-test_len):stop]\n",
    "            y_test = y.iloc[(stop-test_len):stop]\n",
    "            for idx in range(len(y_test)):\n",
    "                if (model.predict(X_test.iloc[idx].reshape(-1, lag*3)) == y_test.iloc[idx]):\n",
    "                    total = total + abs(X_test.iloc[idx][lag-1])\n",
    "                    self.aq.log(\"Right Prediction, direct=%s, close_diff=%s, total=%s\" % (y_test.iloc[idx], X_test.iloc[idx][lag-1],total))\n",
    "                else:\n",
    "                    total = total - abs(X_test.iloc[idx][lag-1])\n",
    "                    self.aq.log(\"Wrong Prediction, direct=%s, close_diff=%s, total=%s\" % (y_test.iloc[idx], X_test.iloc[idx][lag-1],total))\n",
    "            start = start + test_len\n",
    "            stop = stop + test_len          "
   ]
  },
  {
   "cell_type": "markdown",
   "metadata": {},
   "source": [
    "# Cross Validate"
   ]
  },
  {
   "cell_type": "code",
   "execution_count": null,
   "metadata": {
    "collapsed": false,
    "scrolled": false
   },
   "outputs": [],
   "source": [
    "code = \"I\"\n",
    "type = \"5\"\n",
    "classification = Classification(AQ())\n",
    "classification.cross_validate(code, type, LogisticRegression(), 3, 10)\n",
    "classification.cross_validate(code, type, GaussianNB(), 3, 10)\n",
    "classification.cross_validate(code, type, KNeighborsClassifier(), 3, 10)\n",
    "classification.cross_validate(code, type, DecisionTreeClassifier(), 3, 10)\n",
    "classification.cross_validate(code, type, svm.SVC(), 3, 10)"
   ]
  },
  {
   "cell_type": "markdown",
   "metadata": {},
   "source": [
    "# Long Short Validate"
   ]
  },
  {
   "cell_type": "code",
   "execution_count": null,
   "metadata": {
    "collapsed": false,
    "scrolled": false
   },
   "outputs": [],
   "source": [
    "code = \"I\"\n",
    "type = \"5\"\n",
    "classification = Classification(AQ())\n",
    "classification.long_short_validate(code, type, LogisticRegression(), 3, 1000, 100)"
   ]
  }
 ],
 "metadata": {
  "kernelspec": {
   "display_name": "Python 3",
   "language": "python",
   "name": "python3"
  },
  "language_info": {
   "codemirror_mode": {
    "name": "ipython",
    "version": 3
   },
   "file_extension": ".py",
   "mimetype": "text/x-python",
   "name": "python",
   "nbconvert_exporter": "python",
   "pygments_lexer": "ipython3",
   "version": "3.5.1"
  }
 },
 "nbformat": 4,
 "nbformat_minor": 0
}
