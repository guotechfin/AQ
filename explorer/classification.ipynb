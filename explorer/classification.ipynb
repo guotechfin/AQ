{
 "cells": [
  {
   "cell_type": "code",
   "execution_count": 1,
   "metadata": {
    "collapsed": false,
    "scrolled": false
   },
   "outputs": [],
   "source": [
    "%matplotlib inline\n",
    "import os\n",
    "import inspect\n",
    "import logging\n",
    "from mysql import connector\n",
    "import numpy as np\n",
    "import pandas as pd\n",
    "import matplotlib\n",
    "import matplotlib.pyplot as plt\n",
    "from sklearn.model_selection import cross_val_score\n",
    "from sklearn.linear_model import LogisticRegression\n",
    "from sklearn.naive_bayes import GaussianNB\n",
    "from sklearn.neighbors import KNeighborsClassifier\n",
    "from sklearn.tree import DecisionTreeClassifier\n",
    "from sklearn import svm\n",
    "\n",
    "class AQ:\n",
    "    WS_PATH = os.path.abspath(\"./\") + os.sep\n",
    "    DB_HOST = \"127.0.0.1\"\n",
    "    DB_USR = \"root\"\n",
    "    DB_PWD = \"!QAZ2wsx#EDC\"\n",
    "    DB_NAME = \"aq\"\n",
    "    \n",
    "    def log(self, msg):\n",
    "        print(msg)\n",
    "        \n",
    "class Classification:\n",
    "    def __init__(self, aq):\n",
    "        self.aq = aq\n",
    "        \n",
    "    def get_data(self, code, type):\n",
    "        mysql_connector = connector.connect(host=self.aq.DB_HOST, database=self.aq.DB_NAME,\n",
    "                                            user=self.aq.DB_USR, password=self.aq.DB_PWD)\n",
    "        data = pd.read_sql(\"\"\"SELECT close, high-low as hl, close-open as oc FROM future_trade WHERE code='%s' AND type='%s' \"\"\" \n",
    "                              % (code, type), \n",
    "                              con=mysql_connector)\n",
    "        data_1 = data.close.diff()\n",
    "        data_1[0] = 0\n",
    "        data_2 = data.hl\n",
    "        data_3 = data.oc\n",
    "        data = pd.DataFrame({\"data_1\":data_1, \"data_2\":data_2, \"data_3\":data_3})\n",
    "        data = pd.DataFrame(data, columns=[\"data_1\", \"data_2\", \"data_3\"])\n",
    "        mysql_connector.close()\n",
    "        return data\n",
    "\n",
    "    def get_X(self, data, lag):\n",
    "        X = pd.DataFrame(columns=range(lag * 3))\n",
    "        for idx, row in data.iterrows():\n",
    "            if idx >= lag:\n",
    "                data_1 = data.iloc[(idx-lag):idx, 0]\n",
    "                data_2 = data.iloc[(idx-lag):idx, 1]\n",
    "                data_3 = data.iloc[(idx-lag):idx, 2]\n",
    "                xrow = pd.concat([data_1, data_2, data_3], ignore_index=True)\n",
    "                X = X.append(xrow, ignore_index=True)\n",
    "        return X\n",
    "    \n",
    "    def get_y(self, data, lag):\n",
    "        y = data.data_1[lag:]\n",
    "        y.index = range(len(y))\n",
    "        y = pd.DataFrame(dict(y1=y, y2=y.apply(lambda x: 1 if x >= 0 else -1)))\n",
    "        return y\n",
    "    \n",
    "    def cross_validate(self, model, X, y, lag, k_fold):\n",
    "        self.aq.log(\"Model: %s\" % model)\n",
    "        scores = cross_val_score(model, X, y.iloc[:,1], cv=k_fold)\n",
    "        self.aq.log(\"Accuracy: %0.2f (+/- %0.2f)\\n\" % (scores.mean(), scores.std() * 2))\n",
    "        \n",
    "    def long_short_validate(self, model, X, y, lag, train_len, test_len):\n",
    "        self.aq.log(\"Model: %s\\n\" % model)        \n",
    "        total = 0\n",
    "        right = 0\n",
    "        wrong = 0\n",
    "        start = 0\n",
    "        stop = train_len + test_len\n",
    "        y_len = len(y)\n",
    "        while (stop < y_len):\n",
    "            self.aq.log(\"Start:%s, Stop:%s\" % (start, stop))\n",
    "            X_train = X.iloc[start:(start+train_len)]\n",
    "            y_train = y.iloc[start:(start+train_len),1]\n",
    "            model.fit(X_train, y_train)\n",
    "            X_test = X.iloc[(stop-test_len):stop]\n",
    "            y_test = y.iloc[(stop-test_len):stop]            \n",
    "            for idx in range(len(y_test)):\n",
    "                y_predict = model.predict(X_test.iloc[idx].reshape(-1, lag*3))\n",
    "                if (y_predict == y_test.iloc[idx,1]):\n",
    "                    total = total + abs(y_test.iloc[idx,0])\n",
    "                    right += 1\n",
    "                    self.aq.log(\"    Right Prediction:\\t y_pred=%s,\\t y_real=%s,\\t c_diff=%s,\\t total=%s,\\t hit_rate=%s%%\" % \n",
    "                                     (\"Up\" if y_predict == 1 else \"Down\",\n",
    "                                      \"Up\" if y_test.iloc[idx,1] == 1 else \"Down\",\n",
    "                                      y_test.iloc[idx,0],\n",
    "                                      total,\n",
    "                                      100 * right/(right+wrong)))\n",
    "                else:\n",
    "                    total = total - abs(y_test.iloc[idx,0])\n",
    "                    wrong += 1\n",
    "                    self.aq.log(\"    Wrong Prediction:\\t y_pred=%s,\\t y_real=%s,\\t c_diff=%s,\\t total=%s,\\t hit_rate=%s%%\" % \n",
    "                                     (\"Up\" if y_predict == 1 else \"Down\",\n",
    "                                      \"Up\" if y_test.iloc[idx,1] == 1 else \"Down\",           \n",
    "                                      y_test.iloc[idx,0],\n",
    "                                      total,\n",
    "                                      100*right/(right+wrong)))\n",
    "            start = start + test_len\n",
    "            stop = stop + test_len"
   ]
  },
  {
   "cell_type": "markdown",
   "metadata": {},
   "source": [
    "# Cross Validate"
   ]
  },
  {
   "cell_type": "code",
   "execution_count": null,
   "metadata": {
    "collapsed": false,
    "scrolled": false
   },
   "outputs": [],
   "source": [
    "code = \"I\"\n",
    "type = \"d\"\n",
    "lag = 3\n",
    "classification = Classification(AQ())\n",
    "data = classification.get_data(code, type)\n",
    "X = classification.get_X(data, lag)\n",
    "y = classification.get_y(data, lag)\n",
    "classification.cross_validate(X, y, LogisticRegression(), lag, 10)\n",
    "classification.cross_validate(X, y, GaussianNB(), lag, 10)\n",
    "classification.cross_validate(X, y, KNeighborsClassifier(), lag, 10)\n",
    "classification.cross_validate(X, y, DecisionTreeClassifier(), lag, 10)\n",
    "classification.cross_validate(X, y, svm.SVC(), lag, 10)"
   ]
  },
  {
   "cell_type": "markdown",
   "metadata": {},
   "source": [
    "# Long Short Validate"
   ]
  },
  {
   "cell_type": "code",
   "execution_count": null,
   "metadata": {
    "collapsed": false,
    "scrolled": false
   },
   "outputs": [],
   "source": [
    "code = \"P\"\n",
    "type = \"5\"\n",
    "lag = 3\n",
    "classification = Classification(AQ())\n",
    "data = classification.get_data(code, type)\n",
    "X = classification.get_X(data, lag)\n",
    "y = classification.get_y(data, lag)\n",
    "classification.long_short_validate(LogisticRegression(), X, y, 3, 5000, 100)"
   ]
  }
 ],
 "metadata": {
  "kernelspec": {
   "display_name": "Python 3",
   "language": "python",
   "name": "python3"
  },
  "language_info": {
   "codemirror_mode": {
    "name": "ipython",
    "version": 3
   },
   "file_extension": ".py",
   "mimetype": "text/x-python",
   "name": "python",
   "nbconvert_exporter": "python",
   "pygments_lexer": "ipython3",
   "version": "3.5.1"
  }
 },
 "nbformat": 4,
 "nbformat_minor": 0
}
