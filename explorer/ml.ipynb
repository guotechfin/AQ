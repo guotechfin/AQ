{
 "cells": [
  {
   "cell_type": "markdown",
   "metadata": {},
   "source": [
    "<h1>Data</h1>"
   ]
  },
  {
   "cell_type": "code",
   "execution_count": 7,
   "metadata": {
    "collapsed": false
   },
   "outputs": [
    {
     "name": "stdout",
     "output_type": "stream",
     "text": [
      "Std: 6.766430139868762\n",
      "Mean: -0.005596138237430048\n"
     ]
    }
   ],
   "source": [
    "%matplotlib inline\n",
    "from mysql import connector\n",
    "import numpy as np\n",
    "import pandas as pd\n",
    "import matplotlib\n",
    "import matplotlib.pyplot as plt\n",
    "\n",
    "mysql_connector = connector.connect(host=\"127.0.0.1\", database=\"aq\", \n",
    "                                    user=\"root\", password=\"!QAZ2wsx#EDC\")\n",
    "data = pd.read_sql(\"\"\"SELECT close, volume FROM future_trade\n",
    "                      WHERE code='%s' AND type='%s' \"\"\" % (\"RB\", \"5\"), con=mysql_connector)\n",
    "mysql_connector.close()\n",
    "data[\"chg\"] = data.close.diff()\n",
    "data.iloc[0, 2] = 0\n",
    "\n",
    "lag_rtn = 10\n",
    "lag_vol = 10\n",
    "y = data.chg[max(lag_rtn, lag_vol):]\n",
    "y.index = range(len(y))\n",
    "y = y.apply(lambda x: x > 0)\n",
    "X = pd.DataFrame(columns=range(lag_rtn + lag_vol))\n",
    "for idx, row in data.iterrows():\n",
    "    if idx >= lag_rtn and idx >= lag_vol:\n",
    "        vol = data.iloc[(idx - lag_vol):idx, 1]\n",
    "        rtn = data.iloc[(idx - lag_rtn):idx, 2]\n",
    "        xrow = pd.concat([rtn, vol], ignore_index=True)\n",
    "        X = X.append(xrow, ignore_index=True)\n",
    "\n",
    "print(\"Std:\", data.chg.std())\n",
    "print(\"Mean:\", data.chg.mean())"
   ]
  },
  {
   "cell_type": "markdown",
   "metadata": {},
   "source": [
    "# Logistic Regression"
   ]
  },
  {
   "cell_type": "code",
   "execution_count": 4,
   "metadata": {
    "collapsed": false,
    "scrolled": false
   },
   "outputs": [
    {
     "name": "stdout",
     "output_type": "stream",
     "text": [
      "i=0, 64.22%\n",
      "i=1, 64.39%\n",
      "i=2, 64.28%\n",
      "i=3, 62.83%\n",
      "i=4, 61.81%\n",
      "i=5, 59.67%\n",
      "i=6, 58.82%\n",
      "i=7, 58.30%\n",
      "i=8, 56.78%\n",
      "i=9, 56.19%\n"
     ]
    }
   ],
   "source": [
    "from sklearn.linear_model import LogisticRegression\n",
    "k_fold = 50\n",
    "stride = round(len(data.chg)/k_fold)\n",
    "for i in range(0, k_fold):\n",
    "    start = i*stride\n",
    "    stop = i*stride+stride-1\n",
    "    if (i == k_fold-1):\n",
    "        stop = len(data.chg)\n",
    "    X_test = X[start:stop]\n",
    "    y_test = y[start:stop]\n",
    "    X_train = pd.concat([X[0:start-1], X[stop:]])\n",
    "    y_train = pd.concat([y[0:start-1], y[stop:]])    \n",
    "    model = LogisticRegression()\n",
    "    model.fit(X_train, y_train)\n",
    "    print(\"i=%s, %.2f%s\" % (i, np.sum(model.predict(X_test) == y_test)*100/stride, \"%\"))"
   ]
  },
  {
   "cell_type": "markdown",
   "metadata": {},
   "source": [
    "# Navie Bayes"
   ]
  },
  {
   "cell_type": "code",
   "execution_count": 6,
   "metadata": {
    "collapsed": false
   },
   "outputs": [
    {
     "name": "stdout",
     "output_type": "stream",
     "text": [
      "i=0, 61.81%\n",
      "i=1, 60.76%\n",
      "i=2, 64.29%\n",
      "i=3, 65.05%\n",
      "i=4, 68.19%\n",
      "i=5, 62.10%\n",
      "i=6, 67.24%\n",
      "i=7, 62.29%\n",
      "i=8, 60.95%\n",
      "i=9, 62.19%\n",
      "i=10, 57.14%\n",
      "i=11, 62.10%\n",
      "i=12, 62.67%\n",
      "i=13, 62.57%\n",
      "i=14, 67.71%\n",
      "i=15, 63.71%\n",
      "i=16, 64.38%\n",
      "i=17, 59.81%\n",
      "i=18, 63.71%\n",
      "i=19, 65.62%\n",
      "i=20, 62.67%\n",
      "i=21, 64.95%\n",
      "i=22, 60.95%\n",
      "i=23, 58.29%\n",
      "i=24, 58.38%\n",
      "i=25, 56.86%\n",
      "i=26, 59.52%\n",
      "i=27, 55.90%\n",
      "i=28, 57.14%\n",
      "i=29, 55.90%\n",
      "i=30, 56.00%\n",
      "i=31, 54.29%\n",
      "i=32, 58.67%\n",
      "i=33, 53.81%\n",
      "i=34, 51.71%\n",
      "i=35, 50.76%\n",
      "i=36, 54.67%\n",
      "i=37, 53.90%\n",
      "i=38, 53.14%\n",
      "i=39, 53.52%\n",
      "i=40, 55.43%\n",
      "i=41, 54.86%\n",
      "i=42, 53.71%\n",
      "i=43, 55.81%\n",
      "i=44, 53.24%\n",
      "i=45, 52.00%\n",
      "i=46, 54.00%\n",
      "i=47, 53.33%\n",
      "i=48, 55.52%\n",
      "i=49, 53.33%\n"
     ]
    }
   ],
   "source": [
    "from sklearn.naive_bayes import GaussianNB\n",
    "k_fold = 50\n",
    "stride = round(len(data.chg)/k_fold)\n",
    "for i in range(0, k_fold):\n",
    "    start = i*stride\n",
    "    stop = i*stride+stride-1\n",
    "    if (i == k_fold-1):\n",
    "        stop = len(data.chg)\n",
    "    X_test = X[start:stop]\n",
    "    y_test = y[start:stop]\n",
    "    X_train = pd.concat([X[0:start-1], X[stop:]])\n",
    "    y_train = pd.concat([y[0:start-1], y[stop:]])    \n",
    "    model = GaussianNB()\n",
    "    model.fit(X_train, y_train)\n",
    "    print(\"i=%s, %.2f%s\" % (i, np.sum(model.predict(X_test) == y_test)*100/stride, \"%\"))"
   ]
  },
  {
   "cell_type": "code",
   "execution_count": null,
   "metadata": {
    "collapsed": true
   },
   "outputs": [],
   "source": []
  }
 ],
 "metadata": {
  "kernelspec": {
   "display_name": "Python 3",
   "language": "python",
   "name": "python3"
  },
  "language_info": {
   "codemirror_mode": {
    "name": "ipython",
    "version": 3
   },
   "file_extension": ".py",
   "mimetype": "text/x-python",
   "name": "python",
   "nbconvert_exporter": "python",
   "pygments_lexer": "ipython3",
   "version": "3.5.1"
  }
 },
 "nbformat": 4,
 "nbformat_minor": 0
}
