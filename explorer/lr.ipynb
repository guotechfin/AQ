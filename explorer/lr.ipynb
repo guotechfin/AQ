{
 "cells": [
  {
   "cell_type": "code",
   "execution_count": null,
   "metadata": {
    "collapsed": false
   },
   "outputs": [],
   "source": [
    "%matplotlib inline\n",
    "import os\n",
    "import inspect\n",
    "import logging\n",
    "from mysql import connector\n",
    "import numpy as np\n",
    "import pandas as pd\n",
    "import matplotlib\n",
    "import matplotlib.pyplot as plt\n",
    "\n",
    "from sklearn import preprocessing\n",
    "from sklearn import linear_model\n",
    "from sklearn.model_selection import cross_val_score\n",
    "\n",
    "class AQ:\n",
    "\n",
    "    # Global constants\n",
    "    WS_PATH = os.path.abspath(\"./\") + os.sep\n",
    "    DB_HOST = \"127.0.0.1\"\n",
    "    DB_USR = \"root\"\n",
    "    DB_PWD = \"!QAZ2wsx#EDC\"\n",
    "    DB_NAME = \"aq\"\n",
    "    \n",
    "    def log(self, msg):\n",
    "        print(msg)\n",
    "        \n",
    "class LR:\n",
    "    def __init__(self, aq):\n",
    "        self.aq = aq\n",
    "        \n",
    "    def get_data(self, code, type):\n",
    "        mysql_connector = connector.connect(host=self.aq.DB_HOST, database=self.aq.DB_NAME,\n",
    "                                            user=self.aq.DB_USR, password=self.aq.DB_PWD)\n",
    "        data = pd.read_sql(\"\"\"SELECT close, high-low as hl, close-open as oc FROM future_trade WHERE code='%s' AND type='%s' \"\"\" % (code, type), \n",
    "                              con=mysql_connector)\n",
    "        data_1 = data.close.diff()\n",
    "        data_1[0] = 0\n",
    "        data_2 = data.hl\n",
    "        data_3 = data.oc\n",
    "        data = pd.DataFrame({\"data_1\":data_1, \"data_2\":data_2, \"data_3\":data_3})\n",
    "        #data = pd.DataFrame(preprocessing.normalize(data), columns=[\"data_1\", \"data_2\", \"data_3\"])\n",
    "        mysql_connector.close()\n",
    "        return data\n",
    "    \n",
    "    def get_Y(self, data, lag_1, lag_2, lag_3):\n",
    "        Y = data.data_1[max(lag_1, lag_2, lag_3):]\n",
    "        Y.index = range(len(Y))\n",
    "        return Y\n",
    "\n",
    "    def get_X(self, data, lag_1, lag_2, lag_3):\n",
    "        X = pd.DataFrame(columns=range(lag_1 + lag_2 + lag_3))\n",
    "        for idx, row in data.iterrows():\n",
    "            if idx >= lag_1 and idx >= lag_2 and idx >= lag_3:\n",
    "                data_1 = data.iloc[(idx - lag_1):idx, 0]\n",
    "                data_2 = data.iloc[(idx - lag_2):idx, 1]\n",
    "                data_3 = data.iloc[(idx - lag_3):idx, 2]\n",
    "                xrow = pd.concat([data_1, data_2, data_3], ignore_index=True)\n",
    "                X = X.append(xrow, ignore_index=True)\n",
    "        return X\n",
    "    \n",
    "    def cross_check(self, model, k_fold, X, Y):\n",
    "        hit_rate_sum = 0\n",
    "        stride = round(len(Y) / k_fold)\n",
    "        for i in range(0, k_fold):\n",
    "            start = i * stride\n",
    "            stop = i * stride + stride - 1\n",
    "            if (i == k_fold - 1):\n",
    "                stop = len(Y)            \n",
    "            X_test = X[start:stop]\n",
    "            Y_test = Y[start:stop]\n",
    "            if (i == 0):\n",
    "                X_train = X[stop:]\n",
    "                Y_train = Y[stop:]\n",
    "            else:\n",
    "                X_train = pd.concat([X[0:start], X[stop:]])\n",
    "                Y_train = pd.concat([Y[0:start], Y[stop:]])            \n",
    "            model.fit(X_train, Y_train)\n",
    "            \n",
    "            # The coefficients\n",
    "            self.aq.log(\"Coefficients: %s\" % model.coef_)\n",
    "            # The mean squared error\n",
    "            self.aq.log(\"Mean squared error: %.2f\" % (np.mean((model.predict(X_test) - Y_test) ** 2)))\n",
    "            # Explained variance score: 1 is perfect prediction\n",
    "            self.aq.log(\"Variance score: %.2f\" % model.score(X_test, Y_test))\n",
    "            self.aq.log(\"\\n\")\n",
    "            \n",
    "            plt.scatter(Y_test, model.predict(X_test)-Y_test, color='blue', linewidth=3)\n",
    "            plt.show()\n",
    "\n",
    "    def execute(self, code, type, lag, k_fold):\n",
    "        self.aq.log(\"Code=%s, Type=%s, lag=%s, k_fold=%s\" % (code,type,lag,k_fold))\n",
    "        \n",
    "        mysql_connector = connector.connect(host=self.aq.DB_HOST, database=self.aq.DB_NAME,\n",
    "                                            user=self.aq.DB_USR, password=self.aq.DB_PWD)\n",
    "        \n",
    "        data = self.get_data(code, type)\n",
    "\n",
    "        lag_1 = lag\n",
    "        lag_2 = lag\n",
    "        lag_3 = lag\n",
    "        \n",
    "        X = self.get_X(data, lag_1, lag_2, lag_3)\n",
    "        Y = self.get_Y(data, lag_1, lag_2, lag_3)        \n",
    "        model = linear_model.LinearRegression()\n",
    "        cross_val_score(model, X, Y)\n",
    "        \n",
    "        mysql_connector.close()"
   ]
  },
  {
   "cell_type": "code",
   "execution_count": null,
   "metadata": {
    "collapsed": false,
    "scrolled": false
   },
   "outputs": [],
   "source": [
    "lr = LR(AQ())\n",
    "lr.execute(\"I\", \"d\", 3, 10)\n",
    "\n",
    "loo = cross_validation.LeaveOneOut(len(Y_digits))\n",
    "\n",
    "scores = cross_validation.cross_val_score(regr, X_digits, Y_digits, scoring='mean_squared_error', cv=loo,)\n",
    "\n",
    "# This will print the mean of the list of errors that were output and \n",
    "# provide your metric for evaluation\n",
    "print scores.mean()\n"
   ]
  },
  {
   "cell_type": "code",
   "execution_count": null,
   "metadata": {
    "collapsed": false,
    "scrolled": false
   },
   "outputs": [],
   "source": [
    "data = lr.get_data(code, type)\n",
    "X = lr.get_X(data, 3, 3, 3)\n",
    "Y = lr.get_Y(data, 3, 3, 3)\n",
    "for i in range(0,9):\n",
    "    plt.scatter(Y, X[i])\n",
    "    plt.show()\n",
    "    \n"
   ]
  },
  {
   "cell_type": "code",
   "execution_count": null,
   "metadata": {
    "collapsed": false
   },
   "outputs": [],
   "source": [
    "X"
   ]
  },
  {
   "cell_type": "code",
   "execution_count": null,
   "metadata": {
    "collapsed": true
   },
   "outputs": [],
   "source": []
  }
 ],
 "metadata": {
  "kernelspec": {
   "display_name": "Python 3",
   "language": "python",
   "name": "python3"
  },
  "language_info": {
   "codemirror_mode": {
    "name": "ipython",
    "version": 3
   },
   "file_extension": ".py",
   "mimetype": "text/x-python",
   "name": "python",
   "nbconvert_exporter": "python",
   "pygments_lexer": "ipython3",
   "version": "3.5.1"
  }
 },
 "nbformat": 4,
 "nbformat_minor": 0
}
