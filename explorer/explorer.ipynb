{
 "cells": [
  {
   "cell_type": "markdown",
   "metadata": {},
   "source": [
    "<h1>Data</h1>"
   ]
  },
  {
   "cell_type": "code",
   "execution_count": 11,
   "metadata": {
    "collapsed": true
   },
   "outputs": [],
   "source": [
    "%matplotlib inline\n",
    "from mysql import connector\n",
    "import numpy as np\n",
    "import pandas as pd\n",
    "import matplotlib\n",
    "import matplotlib.pyplot as plt\n",
    "from sklearn.linear_model import LogisticRegression\n",
    "from sklearn.naive_bayes import GaussianNB\n",
    "from sklearn.neighbors import KNeighborsClassifier\n",
    "from sklearn.tree import DecisionTreeClassifier\n",
    "from sklearn.svm import SVC\n",
    "\n",
    "def get_y(data, rtn_lag, vol_lag):\n",
    "    y = data.chg[max(rtn_lag, vol_lag):]\n",
    "    y.index = range(len(y))\n",
    "    y = y.apply(lambda x: x > 0)\n",
    "    return y\n",
    "\n",
    "def get_X(data, rtn_lag, vol_lag):\n",
    "    X = pd.DataFrame(columns=range(rtn_lag + vol_lag))\n",
    "    for idx, row in data.iterrows():\n",
    "        if idx >= rtn_lag and idx >= vol_lag:\n",
    "            vol = data.iloc[(idx - vol_lag):idx, 1]\n",
    "            rtn = data.iloc[(idx - rtn_lag):idx, 2]\n",
    "            xrow = pd.concat([rtn, vol], ignore_index=True)\n",
    "            X = X.append(xrow, ignore_index=True)\n",
    "    return X\n",
    "\n",
    "def cross_check(model, k_fold, X, y):\n",
    "    hit_rate_sum = 0\n",
    "    stride = round(len(y) / k_fold)\n",
    "    for i in range(0, k_fold):\n",
    "        start = i * stride\n",
    "        stop = i * stride + stride - 1\n",
    "        if (i == k_fold - 1):\n",
    "            stop = len(y)\n",
    "        X_test = X[start:stop]\n",
    "        y_test = y[start:stop]\n",
    "        X_train = pd.concat([X[0:start - 1], X[stop:]])\n",
    "        y_train = pd.concat([y[0:start - 1], y[stop:]])\n",
    "        model.fit(X_train, y_train)\n",
    "        hit_rate = np.sum(model.predict(X_test) == y_test) / (stop-start)\n",
    "        hit_rate_sum += hit_rate\n",
    "        print(\"  k_fold=%s, %.2f%s\" % (i+1, hit_rate*100 , \"%\"))\n",
    "    return hit_rate_sum/k_fold\n",
    "\n",
    "def ml(code, type):\n",
    "    mysql_connector = connector.connect(host=\"127.0.0.1\", database=\"aq\", user=\"root\", password=\"!QAZ2wsx#EDC\")    \n",
    "    codes = pd.read_sql(\"\"\"SELECT code FROM aq.future_code WHERE code='%s';\"\"\" % code, con=mysql_connector)    \n",
    "    for row in codes.itertuples():\n",
    "        data = pd.read_sql(\"\"\"SELECT close, volume FROM future_trade \n",
    "                              WHERE code='%s' AND type='%s' \"\"\" % (row[1], type), con=mysql_connector)\n",
    "        data[\"chg\"] = data.close.diff()\n",
    "        data.iloc[0, 2] = 0\n",
    "        \n",
    "        rtn_lag = 10\n",
    "        vol_lag = 10\n",
    "        k_fold = 20\n",
    "        \n",
    "        print(\"################################################################################\")\n",
    "        \n",
    "        model = LogisticRegression()\n",
    "        print(\"Code = %s\" % row[1])\n",
    "        print(model)\n",
    "        hit_rate = cross_check(model, k_fold, get_X(data, rtn_lag, vol_lag), get_y(data, rtn_lag, vol_lag))        \n",
    "        print(\"Average Hit Rate = %g%s\" % (hit_rate*100, \"%\"))\n",
    "        \n",
    "        print(\"################################################################################\")\n",
    "        \n",
    "        model = GaussianNB()\n",
    "        print(\"Code = %s\" % row[1])\n",
    "        print(model)\n",
    "        hit_rate = cross_check(model, k_fold, get_X(data, rtn_lag, vol_lag), get_y(data, rtn_lag, vol_lag))\n",
    "        print(\"Average Hit Rate = %g%s\" % (hit_rate * 100, \"%\"))\n",
    "        \n",
    "        print(\"################################################################################\")\n",
    "        \n",
    "        model = KNeighborsClassifier()\n",
    "        print(\"Code = %s\" % row[1])\n",
    "        print(model)\n",
    "        hit_rate = cross_check(model, k_fold, get_X(data, rtn_lag, vol_lag), get_y(data, rtn_lag, vol_lag))\n",
    "        print(\"Average Hit Rate = %g%s\" % (hit_rate * 100, \"%\"))\n",
    "        \n",
    "        print(\"################################################################################\")\n",
    "        \n",
    "        model = DecisionTreeClassifier()\n",
    "        print(\"Code = %s\" % row[1])\n",
    "        print(model)\n",
    "        hit_rate = cross_check(model, k_fold, get_X(data, rtn_lag, vol_lag), get_y(data, rtn_lag, vol_lag))\n",
    "        print(\"Average Hit Rate = %g%s\" % (hit_rate * 100, \"%\"))\n",
    "        \n",
    "        print(\"################################################################################\")\n",
    "        \n",
    "        model = SVC()\n",
    "        print(\"Code = %s\" % row[1])\n",
    "        print(model)\n",
    "        hit_rate = cross_check(model, k_fold, get_X(data, rtn_lag, vol_lag), get_y(data, rtn_lag, vol_lag))\n",
    "        print(\"Average Hit Rate = %g%s\" % (hit_rate * 100, \"%\"))\n",
    "        \n",
    "        print(\"################################################################################\")\n",
    "                \n",
    "                \n",
    "    mysql_connector.close()"
   ]
  },
  {
   "cell_type": "code",
   "execution_count": null,
   "metadata": {
    "collapsed": false
   },
   "outputs": [],
   "source": [
    "ml(\"P\", \"5\")"
   ]
  },
  {
   "cell_type": "code",
   "execution_count": null,
   "metadata": {
    "collapsed": true
   },
   "outputs": [],
   "source": []
  }
 ],
 "metadata": {
  "kernelspec": {
   "display_name": "Python 3",
   "language": "python",
   "name": "python3"
  },
  "language_info": {
   "codemirror_mode": {
    "name": "ipython",
    "version": 3
   },
   "file_extension": ".py",
   "mimetype": "text/x-python",
   "name": "python",
   "nbconvert_exporter": "python",
   "pygments_lexer": "ipython3",
   "version": "3.4.4"
  }
 },
 "nbformat": 4,
 "nbformat_minor": 0
}
