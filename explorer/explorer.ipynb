{
 "cells": [
  {
   "cell_type": "markdown",
   "metadata": {},
   "source": [
    "<h1>Data</h1>"
   ]
  },
  {
   "cell_type": "code",
   "execution_count": 1,
   "metadata": {
    "collapsed": false
   },
   "outputs": [
    {
     "name": "stdout",
     "output_type": "stream",
     "text": [
      "Std: 11.611485198066328\n",
      "Mean: 0.000990136715031037\n"
     ]
    }
   ],
   "source": [
    "%matplotlib inline\n",
    "from mysql import connector\n",
    "import numpy as np\n",
    "import pandas as pd\n",
    "import matplotlib\n",
    "import matplotlib.pyplot as plt\n",
    "\n",
    "mysql_connector = connector.connect(host=\"127.0.0.1\", database=\"aq\", \n",
    "                                    user=\"root\", password=\"!QAZ2wsx#EDC\")\n",
    "data = pd.read_sql(\"\"\"SELECT close, volume FROM future_trade\n",
    "                      WHERE code='%s' AND type='%s' \"\"\" % (\"P\", \"5\"), con=mysql_connector)\n",
    "mysql_connector.close()\n",
    "data[\"chg\"] = data.close.diff()\n",
    "data.iloc[0, 2] = 0\n",
    "\n",
    "lag_rtn = 10\n",
    "lag_vol = 10\n",
    "y = data.chg[max(lag_rtn, lag_vol):]\n",
    "y.index = range(len(y))\n",
    "y = y.apply(lambda x: x > 0)\n",
    "X = pd.DataFrame(columns=range(lag_rtn + lag_vol))\n",
    "for idx, row in data.iterrows():\n",
    "    if idx >= lag_rtn and idx >= lag_vol:\n",
    "        vol = data.iloc[(idx - lag_vol):idx, 1]\n",
    "        rtn = data.iloc[(idx - lag_rtn):idx, 2]\n",
    "        xrow = pd.concat([rtn, vol], ignore_index=True)\n",
    "        X = X.append(xrow, ignore_index=True)\n",
    "\n",
    "print(\"Std:\", data.chg.std())\n",
    "print(\"Mean:\", data.chg.mean())"
   ]
  },
  {
   "cell_type": "markdown",
   "metadata": {},
   "source": [
    "# Logistic Regression"
   ]
  },
  {
   "cell_type": "code",
   "execution_count": 3,
   "metadata": {
    "collapsed": false,
    "scrolled": false
   },
   "outputs": [
    {
     "name": "stdout",
     "output_type": "stream",
     "text": [
      "i=0, 62.48%\n",
      "i=1, 61.24%\n",
      "i=2, 64.48%\n",
      "i=3, 65.05%\n",
      "i=4, 66.95%\n",
      "i=5, 62.95%\n",
      "i=6, 68.10%\n",
      "i=7, 63.43%\n",
      "i=8, 63.71%\n",
      "i=9, 64.29%\n",
      "i=10, 60.67%\n",
      "i=11, 61.90%\n",
      "i=12, 65.24%\n",
      "i=13, 65.33%\n",
      "i=14, 68.19%\n",
      "i=15, 63.62%\n",
      "i=16, 62.10%\n",
      "i=17, 60.95%\n",
      "i=18, 65.43%\n",
      "i=19, 64.10%\n",
      "i=20, 61.33%\n",
      "i=21, 65.90%\n",
      "i=22, 62.48%\n",
      "i=23, 61.52%\n",
      "i=24, 58.76%\n",
      "i=25, 59.81%\n",
      "i=26, 60.48%\n",
      "i=27, 58.57%\n",
      "i=28, 58.19%\n",
      "i=29, 60.38%\n",
      "i=30, 60.57%\n",
      "i=31, 59.71%\n",
      "i=32, 64.76%\n",
      "i=33, 55.43%\n",
      "i=34, 54.86%\n",
      "i=35, 60.48%\n",
      "i=36, 59.62%\n",
      "i=37, 58.48%\n",
      "i=38, 55.62%\n",
      "i=39, 57.81%\n",
      "i=40, 57.52%\n",
      "i=41, 57.52%\n",
      "i=42, 56.19%\n",
      "i=43, 58.10%\n",
      "i=44, 55.43%\n",
      "i=45, 54.00%\n",
      "i=46, 55.71%\n",
      "i=47, 57.33%\n",
      "i=48, 58.57%\n",
      "i=49, 54.76%\n"
     ]
    }
   ],
   "source": [
    "from sklearn.linear_model import LogisticRegression\n",
    "k_fold = 50\n",
    "stride = round(len(data.chg)/k_fold)\n",
    "for i in range(0, k_fold):\n",
    "    start = i*stride\n",
    "    stop = i*stride+stride-1\n",
    "    if (i == k_fold-1):\n",
    "        stop = len(data.chg)\n",
    "    X_test = X[start:stop]\n",
    "    y_test = y[start:stop]\n",
    "    X_train = pd.concat([X[0:start-1], X[stop:]])\n",
    "    y_train = pd.concat([y[0:start-1], y[stop:]])    \n",
    "    model = LogisticRegression()\n",
    "    model.fit(X_train, y_train)\n",
    "    print(\"i=%s, %.2f%s\" % (i, np.sum(model.predict(X_test) == y_test)*100/stride, \"%\"))    "
   ]
  },
  {
   "cell_type": "markdown",
   "metadata": {},
   "source": [
    "# Navie Bayes"
   ]
  },
  {
   "cell_type": "code",
   "execution_count": null,
   "metadata": {
    "collapsed": false
   },
   "outputs": [],
   "source": [
    "from sklearn.naive_bayes import GaussianNB\n",
    "model = GaussianNB()\n",
    "model.fit(X_train, y_train)\n",
    "expected = y_test\n",
    "\"%.2f%s\" % (np.sum(model.predict(X_test) == y_test)*100/length, \"%\")"
   ]
  },
  {
   "cell_type": "code",
   "execution_count": null,
   "metadata": {
    "collapsed": true
   },
   "outputs": [],
   "source": []
  }
 ],
 "metadata": {
  "kernelspec": {
   "display_name": "Python 3",
   "language": "python",
   "name": "python3"
  },
  "language_info": {
   "codemirror_mode": {
    "name": "ipython",
    "version": 3
   },
   "file_extension": ".py",
   "mimetype": "text/x-python",
   "name": "python",
   "nbconvert_exporter": "python",
   "pygments_lexer": "ipython3",
   "version": "3.5.1"
  }
 },
 "nbformat": 4,
 "nbformat_minor": 0
}
