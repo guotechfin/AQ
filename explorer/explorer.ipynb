{
 "cells": [
  {
   "cell_type": "markdown",
   "metadata": {},
   "source": [
    "<h1>Data</h1>"
   ]
  },
  {
   "cell_type": "code",
   "execution_count": null,
   "metadata": {
    "collapsed": false
   },
   "outputs": [],
   "source": [
    "%matplotlib inline\n",
    "from mysql import connector\n",
    "import numpy as np\n",
    "import pandas as pd\n",
    "import matplotlib\n",
    "import matplotlib.pyplot as plt\n",
    "\n",
    "mysql_connector = connector.connect(host=\"127.0.0.1\", database=\"aq\", \n",
    "                                    user=\"root\", password=\"!QAZ2wsx#EDC\")\n",
    "data = pd.read_sql(\"\"\"SELECT close, volume FROM future_trade\n",
    "                      WHERE code='%s' AND type='%s' \"\"\" % (\"RB\", \"5\"), con=mysql_connector)\n",
    "mysql_connector.close()\n",
    "data[\"chg\"] = data.close.diff()\n",
    "data.iloc[0, 2] = 0\n",
    "\n",
    "lag_rtn = 10\n",
    "lag_vol = 1\n",
    "y = data.chg[max(lag_rtn, lag_vol):]\n",
    "y.index = range(len(y))\n",
    "y = y.apply(lambda x: x > 0)\n",
    "X = pd.DataFrame(columns=range(lag_rtn + lag_vol))\n",
    "for idx, row in data.iterrows():\n",
    "    if idx >= lag_rtn and idx >= lag_vol:\n",
    "        vol = data.iloc[(idx - lag_vol):idx, 1]\n",
    "        rtn = data.iloc[(idx - lag_rtn):idx, 2]\n",
    "        xrow = pd.concat([rtn, vol], ignore_index=True)\n",
    "        X = X.append(xrow, ignore_index=True)\n",
    "\n",
    "print(\"Std:\", data.chg.std())\n",
    "print(\"Mean:\", data.chg.mean())"
   ]
  },
  {
   "cell_type": "markdown",
   "metadata": {},
   "source": [
    "# Logistic Regression"
   ]
  },
  {
   "cell_type": "code",
   "execution_count": null,
   "metadata": {
    "collapsed": false,
    "scrolled": true
   },
   "outputs": [],
   "source": [
    "from sklearn.linear_model import LogisticRegression\n",
    "k_fold = 20\n",
    "stride = round(len(data.chg)/k_fold)\n",
    "for i in range(0, k_fold):\n",
    "    start = i*stride\n",
    "    stop = i*stride+stride-1\n",
    "    if (i == k_fold-1):\n",
    "        stop = len(data.chg)\n",
    "    X_test = X[start:stop]\n",
    "    y_test = y[start:stop]\n",
    "    X_train = pd.concat([X[0:start-1], X[stop:]])\n",
    "    y_train = pd.concat([y[0:start-1], y[stop:]])    \n",
    "    model = LogisticRegression()\n",
    "    model.fit(X_train, y_train)\n",
    "    print(\"k_fold=%s, %.2f%s\" % (i, np.sum(model.predict(X_test) == y_test)*100/stride, \"%\"))"
   ]
  },
  {
   "cell_type": "markdown",
   "metadata": {},
   "source": [
    "# Navie Bayes"
   ]
  },
  {
   "cell_type": "code",
   "execution_count": null,
   "metadata": {
    "collapsed": false
   },
   "outputs": [],
   "source": [
    "from sklearn.naive_bayes import GaussianNB\n",
    "k_fold = 20\n",
    "stride = round(len(data.chg)/k_fold)\n",
    "for i in range(0, k_fold):\n",
    "    start = i*stride\n",
    "    stop = i*stride+stride-1\n",
    "    if (i == k_fold-1):\n",
    "        stop = len(data.chg)\n",
    "    X_test = X[start:stop]\n",
    "    y_test = y[start:stop]\n",
    "    X_train = pd.concat([X[0:start-1], X[stop:]])\n",
    "    y_train = pd.concat([y[0:start-1], y[stop:]])    \n",
    "    model = GaussianNB()\n",
    "    model.fit(X_train, y_train)\n",
    "    print(\"k_fold=%s, %.2f%s\" % (i, np.sum(model.predict(X_test) == y_test)*100/stride, \"%\"))"
   ]
  }
 ],
 "metadata": {
  "kernelspec": {
   "display_name": "Python 3",
   "language": "python",
   "name": "python3"
  },
  "language_info": {
   "codemirror_mode": {
    "name": "ipython",
    "version": 3
   },
   "file_extension": ".py",
   "mimetype": "text/x-python",
   "name": "python",
   "nbconvert_exporter": "python",
   "pygments_lexer": "ipython3",
   "version": "3.5.1"
  }
 },
 "nbformat": 4,
 "nbformat_minor": 0
}
